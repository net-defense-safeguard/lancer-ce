{
 "cells": [
  {
   "cell_type": "code",
   "execution_count": 18,
   "metadata": {},
   "outputs": [],
   "source": [
    "import pandas as pd\n",
    "import yaml\n",
    "import pyaml\n",
    "import json\n",
    "from slugify import slugify\n",
    "from jinja2 import Environment, FileSystemLoader, select_autoescape\n",
    "from bs4 import BeautifulSoup as bs"
   ]
  },
  {
   "cell_type": "code",
   "execution_count": 62,
   "metadata": {},
   "outputs": [
    {
     "data": {
      "text/plain": [
       "625354"
      ]
     },
     "execution_count": 62,
     "metadata": {},
     "output_type": "execute_result"
    }
   ],
   "source": [
    "template_filename = 'templates/intermediate_html/catalog.html'\n",
    "yaml_filename = 'intermediate_yaml/weapon_list.yaml'\n",
    "html_filename = 'weapon_catalog.html'\n",
    "\n",
    "templates_dir = template_filename.split('/')[0]\n",
    "items = yaml.safe_load(open(yaml_filename))\n",
    "env = Environment(loader = FileSystemLoader(templates_dir), autoescape = select_autoescape(['html', 'xml']))\n",
    "template = env.get_template('/'.join(template_filename.split('/')[1:]))\n",
    "html = template.render(items = list(items.values()), id_field = 'id', name_field = 'Name', header_fields = ['Size', 'Type'], brief_fields = ['Damage', 'Range', 'Tags', 'License', 'SP'], detail_fields = ['Notes'])\n",
    "html = bs(html).prettify(formatter = 'html')\n",
    "# print(html)\n",
    "open(html_filename, 'w').write(html)"
   ]
  }
 ],
 "metadata": {
  "kernelspec": {
   "display_name": "Python 3",
   "language": "python",
   "name": "python3"
  },
  "language_info": {
   "codemirror_mode": {
    "name": "ipython",
    "version": 3
   },
   "file_extension": ".py",
   "mimetype": "text/x-python",
   "name": "python",
   "nbconvert_exporter": "python",
   "pygments_lexer": "ipython3",
   "version": "3.6.6"
  }
 },
 "nbformat": 4,
 "nbformat_minor": 2
}
