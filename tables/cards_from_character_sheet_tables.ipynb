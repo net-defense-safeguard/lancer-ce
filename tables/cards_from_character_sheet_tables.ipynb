{
 "cells": [
  {
   "cell_type": "markdown",
   "metadata": {},
   "source": [
    "# Import tables from the community-maintained character sheet"
   ]
  },
  {
   "cell_type": "code",
   "execution_count": 1,
   "metadata": {},
   "outputs": [
    {
     "name": "stdout",
     "output_type": "stream",
     "text": [
      "Overwriting WeaponLookup.tsv\n"
     ]
    }
   ],
   "source": [
    "%%file WeaponLookup.tsv\n",
    "[Start Region 1]\tSize\tType\tTags\tRange\tDamage\tNotes\tLicense\tSP\n",
    "Empty\t-\t-\t-\t-\t-\t-\t-\t0\n",
    "Anti-Material Rifle\tHeavy\tRifle\tLoading, Ordnance, AP\t20\t2d6+2 Kinetic\t-\tGMS\t0\n",
    "Assault Rifle\tMain\tRifle\t-\t10\t1d6 Kinetic\t-\tGMS\t0\n",
    "Charged Blade\tMain\tMelee\tAP\tThreat 1\t1d3+3 Energy\t-\tGMS\t0\n",
    "Drone Nexus (Light)\tAuxiliary\tNexus\tSmart\t8\t1d3 Kinetic\t-\tGMS\t0\n",
    "Drone Nexus (Hunter-Killer)\tMain\tNexus\tSmart\t10\t1d6 Kinetic\t-\tGMS\t0\n",
    "Heavy Machine Gun\tHeavy\tCannon\tInaccurate\t10\t2d6+1 Kinetic\t-\tGMS\t0\n",
    "Heavy Melee Weapon\tHeavy\tMelee\t-\tThreat 1\t2d6+2 Kinetic\t-\tGMS\t0\n",
    "Heavy Charged Blade\tHeavy\tMelee\tAP\tThreat 1\t1d6+3 Energy\t-\tGMS\t0\n",
    "Howitzer\tHeavy\tCannon\tArcing, Loading, Ordnance, Inaccurate\t20, Blast 2\t2d6 Explosive\t-\tGMS\t0\n",
    "Missile Rack\tAuxiliary\tLauncher\tLoading\t10, Blast 1\t1d3+1 Explosive\t-\tGMS\t0\n",
    "Mortar\tMain\tLauncher\tArcing, Inaccurate\t10, Blast 1\t1d6 Explosive\t-\tGMS\t0\n",
    "Pistol\tAuxiliary\tCQB\t-\t5, Threat 3\t1d3 Kinetic\t-\tGMS\t0\n",
    "Pulse Rifle\tSuperheavy\tRifle\tReliable 5, Accurate, Loading\t15\t3d6+3 Kinetic\t-\tGMS\t0\n",
    "RPG\tMain\tLauncher\tLoading\t10, blast 2\t1d6 Explosive\t-\tGMS\t0\n",
    "Shotgun\tMain\tCQB\tReliable 1\t5, Threat 3\t1d6 Kinetic\t-\tGMS\t0\n",
    "Tactical Melee\tMain\tMelee\t-\tThreat 1\t1d6+2 Kinetic\t-\tGMS\t0\n",
    "Tactical Knife\tAuxiliary\tMelee\t-\tThreat 1\t1d3+1 Kinetic\t-\tGMS\t0\n",
    "Thermal Pistol\tAuxiliary\tCQB\t-\tLine 5\t2 Energy\t-\tGMS\t0\n",
    "Thermal Rifle\tMain\tRifle\tAP\t5\t1d3+1 Energy\t-\tGMS\t0\n",
    "Thermal Lance\tHeavy\tCannon\t2 heat (self)\tLine 10\t2d6 Energy\t-\tGMS\t0\n",
    "Assault Cannon\tHeavy\tCannon\t1 heat (self), Unreliable\t10\t2d6+2 Kinetic\t-\tIPS-N Drake I\t0\n",
    "IPS-N Argonaut Shield\tMain\tMelee\t-\tThreat 1\t1d6 Kinetic\tCore System of the IPS-N Drake\tIPS-N Drake SHELL\t0\n",
    "Concussion Missiles\tMain\tLauncher\t-\t8\t1d3+1 Explosive\tTargets struck by these missiles are knocked back 1 space and must pass a systems check or become impaired until the end of their next turn.\tIPS-N Drake II\t0\n",
    "Leviathan Heavy Assault Cannon\tSuperheavy\tCannon\t2 heat (self)\t8\t1d6 Kinetic\tAs a quick action, you can pre-cycle this weapon’s barrels. While this weapon’s barrels are spinning, your mech is crippled, but this weapon’s damage increases to 4d6+4 kinetic and it gains Reliable 4. You can stop the spin-up as a free action at the start of your turn, but lose the increased damage until you spin the weapon up again.\tIPS-N Drake III\t0\n",
    "Chain Axe\tMain\tMelee\tReliable 2\tThreat 1\t1d6\t-\tIPS-N Blackbeard I\t0\n",
    "Nanocarbon Sword\tHeavy\tMelee\tReliable 3\tThreat 2\t1d6+3 Kinetic\t-\tIPS-N Blackbeard II\t0\n",
    "Flechette Launcher\tAuxiliary\tCQB\t-\tBurst 1\t1 Kinetic\tDeal +2 bonus damage against grappled targets or targets with the Biological tag.\tIPS-N Blackbeard II\t0\n",
    "Automatic Shotgun\tMain\tCQB\tInaccurate\t3, Threat 3\t2d6 Kinetic\t-\tIPS-N Tortuga I\t0\n",
    "Siege Ram\tMain\tMelee\tUnique\tThreat 1\t-\tTreat this ram like a weapon system. While it's installed, your ram attacks do +1d6 damage on a hit.\tIPS-N Tortuga I\t0\n",
    "Daisy Cutter\tHeavy\tCQB\tLimited (2)\tCone 7\t3d6 Kinetic\tThe blast cloud from firing this weapon lingers until the end of the round after the round in which this weapon was fired, providing light cover to any target in the affected area.\tIPS-N Tortuga II\t0\n",
    "Pneumatic Hammer\tMain\tMelee\tLoading\tThreat 1\t1d3+4 Kinetic\tOn a critical hit with this weapon, your target must pass a hull check or be stunned until the end of its next turn.\tIPS-N Tortuga III\t0\n",
    "War Pike\tMain\tMelee\t-\tThrown(5), Threat 2\t1d6 Kinetic\t-\tIPS-N Nelson I\t0\n",
    "Power Knuckles\tAuxiliary\tMelee\t-\tThreat 1\t1d3+1 Explosive\tOn a critical hit, your target must pass a hull check or be knocked prone\tIPS-N Nelson III\t0\n",
    "Latch Drone\tAuxiliary\tLauncher\t-\t8\t-\tTargeting versus Evasion 8 against any friendly mech in range (taking cover and LOS into account); on a hit, target can spend 1 repair to heal. Core system of the IPS-N Lancaster.\tIPS-N Lancaster II\t0\n",
    "Plasma Cutter\tAuxiliary\tMelee\t1 heat (self)\tThreat 1\t1 Energy +1 Heat + Burn 1\t\tIPS-N Lancaster III\t0\n",
    "Impaler\tMain\tLauncher\tAP, 1 heat (self)\tLine 5\t1d6 Kinetic\tThe farthest target from you hit by this weapon must pass a hull check or become immobilized until the start of your next turn.\tIPS-N Vlad I\t0\n",
    "Nailgun\tMain\tCQB\tAP, 1 heat (self)\t8, Threat 3\t1d6 Kinetic\tOn a critical hit, the target of this attack must pass an hull check or be immobilized until the start of your next turn.\tIPS-N Vlad II\t0\n",
    "Combat Drill\tSuperheavy\tMelee\tUnreliable, AP\tThreat 1\t3d6 Kinetic + 1d6 Energy\t-\tIPS-N Vlad III\t0\n",
    "Hand Cannon\tAuxiliary\tCQB\tLoading\t5, Threat 3\t1d6+1\t-\tIPS-N Raleigh I\t0\n",
    "M-35 MJOLNIR cannon\tAuxiliary\tCQB\t-\t5, Threat 3\t3 Kinetic\tCore System of the Raleigh; doesn't take a mount, cannot be modified or use special ammo.\tIPS-N Raleigh SHELL\t0\n",
    "Bolt Thrower\tHeavy\tCannon\t-\t10\t1d6 Kinetic + 1d6 Explosive\t-\tIPS-N Raleigh II\t0\n",
    "Kinetic Hammer\tHeavy\tMelee\tReliable 3\tThreat\t2d6+1 Kinetic\t-\tIPS-N Raleigh III\t0\n",
    "ORACLE Light Machine Gun\tAuxiliary\tRifle\tArcing, Accurate\t15\t1d3 Kinetic\t-\tSSC Swallowtail I\t1\n",
    "Markerlight\tMain\tRifle\t-\t20\t-\tThis weapon deals no damage and cannot deal damage (from talents or otherwise), but on hit, it inflict Lock On on your target at the end of your turn.\tSSC Swallowtail II\t0\n",
    "Sharanga Missiles\tMain\tLauncher\tArcing\t15\t3 Explosive\tWhen you fire this weapon, you can choose one or two targets in range and line of sight, making attack rolls for reach.\tSSC Monarch I\t0\n",
    "Gandiva Missiles\tHeavy\tLauncher\tSmart, Seeking, Accurate, 1 SP\t15\t1d6+1 Energy\t-\tSSC Monarch II\t1\n",
    "Pinaka Missiles\tSuperheavy\tLauncher\tArcing, 2 heat (self)\t30, one or two Blast 2 areas\t2d6+4 Explosive\tWhen this weapon is fired, it choses one or two Blast 2 areas within range to attack. These areas cannot overlap.\tSSC Monarch III\t0\n",
    "Vijaya Rockets\tAuxiliary\tLauncher\tAccurate\t5\t1d3 Explosive\t-\tSSC Mourning Cloak I\t0\n",
    "Variable Knife\tAuxiliary\tMelee\tAP, Accurate \tThreat\t2 Kinetic\t-\tSSC Mourning Cloak I\t0\n",
    "Variable Sword\tMain\tMelee\tAP, Accurate, Unique\tThreat 2\t4 Kinetic\t-\tSSC Mourning Cloak III\t0\n",
    "Kodandam Missiles\tAuxiliary\tLauncher\tLimited (3)\t20, Blast 1\t1d6 Explosive\t-\tSSC Death's Head II\t0\n",
    "Railgun\tHeavy\tRifle\tAP, Ordnance\tLine 20\t1d6+3 Kinetic\t-\tSSC Death's Head III\t0\n",
    "Vulture Battle Rifle\tMain\tRifle\tUnreliable, Accurate\t15\t1d6+1 Kinetic\t-\tSSC Dusk Wing I\t0\n",
    "Burst Launcher\tMain\tLauncher\tArcing\t10\t1d3 Heat\tOn a critical hit, a target struck by this weapon must pass an engineering skill check or become impaired until the start of your next turn.\tSSC Dusk Wing II\t0\n",
    "Rail Rifle\tMain\tRifle\t-\tLine 10\t1d6 Kinetic\t-\tSSC Metalmark II\t0\n",
    "Shock Knife\tAuxiliary\tMelee\t1 heat (self), Burn 2\tThreat 1\t1 Energy\t-\tSSC Metalmark III\t0\n",
    "Mag Cannon\tMain\tCannon\t-\tLine 8\t1d3+1 Heat\t-\tSSC Black Witch I\t0\n",
    "Nanobot Whip\tHeavy\tMelee\t2 SP\tThreat 3\t2d6 Kinetic\tOn a critical hit (20+), the target must pass a systems check to scramble the nanites or be pulled to any free adjacent space to your mech (or be pulled as far as possible while obeying obstrutions)\tHORUS Balor III\t2\n",
    "Seeker Swarm Nexus\tMain\tNexus\tSmart, Seeking, Burn 2\t10\t1 Kinetic\t-\tHORUS Balor III\t0\n",
    "Autopod\tAuxiliary\tLauncher\tUnique, Seeking\t10\t2 Kinetic\tThis gun cannot be fired normally. Instead, whenever a Lock On is consumed within range, whether you or an ally does so, this gun automatically fires at the target as a reaction. This can be done any number of times per round.\tHORUS Goblin II\t0\n",
    "Ghoul Nexus\tMain\tNexus\tSmart\t15\t1d3+1 Kinetic, Explosive, or Energy\tChoose damage type when attacking.\tHORUS Hydra I\t0\n",
    "GHAST Drone Nexus\tHeavy\tNexus\tSmart\t15\t1d6+3 Explosive\t-\tHORUS Hydra II\t0\n",
    "Vorpal Gun\tMain\tCannon\t-\t5\t2d6 Kinetic\tThis weapon cannot be fired normally. Instead, it can only be fired 1/round as a reaction to an ally taking damage from a target within its range.\tHORUS Gorgon III\t0\n",
    "Arc Projector\tMain\tCQB\t2 heat (self)\tCone 5\t1d3+1 Heat\t-\tHORUS Manticore I\t0\n",
    "Autogun\tMain\tCannon\t1 SP\t20\t3 Kinetic\tThis weapon can fire itself as a Free Action at the end of round, using your mechs bonuses.\tHORUS Pegasus I\t1\n",
    "Ushabti Omnigun\t-\t-\tAP\t30\t1 Kinetic\tFree action to fire 1/round. This doesn't count as an attack, can't miss, ignores Cover, and the damage can't be prevented. Core System of the HORUS Pegasus.\tHORUS Pegasus SHELL\t0\n",
    "Smart Gun\tMain\tRifle\t2 SP, Smart, Seeking, Accurate\t20\t4 Kinetic\t-\tHORUS Pegasus II\t2\n",
    "Mimic Gun\tHeavy\t'???'\t-\t'???'\t'???'\tAt the start of your turn, roll 1d20. This gun has range equal to the number rolled, and damage equal to half that number(rounded up) +1. If the roll is odd, it deals energy damage, if even, then explosive.\tHORUS Pegasus III\t0\n",
    "Annihilator\tMain\tCQB\t2 heat (self), AP\tCone 5\t1d3+1 Energy\t-\tHA Tokugawa I\t0\n",
    "Plasma Lash\tMain\tMelee\tBurn 3\tThreat 3\t 1 Energy Damage+ Burn 3\tCan be used in either profile, but not both in the same round.\tHA Tokugawa II\t0\n",
    "Torch\tMain\tMelee\t1 heat (self), Burn 2\tThreat\t1d6 Energy + Burn 2\t-\tHA Tokugawa III\t0\n",
    "Flak Cannon\tMain\tCannon\tReliable 1\t20\t1d3 Kinetic\tAny flying target damaged by this weapon must pass an Agility check or immediately fall.\tHA Barbarossa II\t0\n",
    "Siege Cannon\tSuperheavy\tCannon\t4 heat (self), Arcing, Ordnance, Loading\t30, Blast 3\t3d6 Explosive\t-\tHA Barbarossa III\t0\n",
    "Displacer\tMain\tRifle\tUnique, Loading, AP, 10 Heat (Self)\t15, Blast 1\t12 Energy\t-\tHA Napoleon III\t0\n",
    "Zone Focus Mk IV SOLIDCORE\tMain\tCannon\tOrdnance\tLine 15\t1d3+1 Energy\tCore system of the Sherman; doesn't take a mount.\tHA Sherman II\t0\n",
    "Laser Rifle (SOL-Pattern)\tMain\tRifle\t1 heat (self), Burn 1\t10\t1d6 Energy + Burn 1\t-\tHA Sherman I\t0\n",
    "Heavy Laser\tHeavy\tCannon\t3 heat (self), Burn 3\t15\t2d6 Energy + Burn 3\t-\tHA Sherman II\t0\n",
    "Tachyon Lance\tSuperheavy\tCannon\tOrdnance, 4 heat (self)\t20\t2d6 Energy + Burn 8\t-\tHA Sherman III\t0\n",
    "Stub Cannon\tAuxiliary\tCannon\tLimited (6)\t5\t3 Kinetic\tTargets hit by this weapon are knocked one space back, directly away from the attacker.\tHA Iskander I\t0\n",
    "Assault Launcher\tAuxiliary\tLauncher\tArcing\t15\t-\tWhen you take this weapon, choose a deployable. You can fire and deploy it using this weapon’s range, using the regular rules for planting deployables. You can only target the ground with this weapon, not enemy mechs.\tHA Iskander II\t0\n",
    "Gravity Gun\tHeavy\tRifle\t-\t8, Blast 3\tSee Notes\tAll targets caught in the Blast must pass a Hull check or take 1d6 Energy damage and be pulled to the center of the area.\tHA Iskander II\t0\n",
    "Sticky Bomb Launcher\tMain\tLauncher\tArcing\t15\t-\tTo fire this weapon, you can attack a point on the environment within range without rolling, or make a regular attack roll against a target within range. On a hit, the target or area does not take damage, but instead has a sticky bomb attached. It takes an action and a successful engineering check to remove all sticky bombs from an area or mech. As an end of round action, you can detonate all sticky bombs fired by this weapon to deal 1d6 explosive damage in blast 1 centered on all targeted mechs or areas. Mechs caught in the blast area can pass an agility check to halve this damage, but mechs ‘stuck’ by this weapon fail their check automatically.\tHA Iskander III\t0\n",
    "Flamethrower\tHeavy\tCQB\tBurn 4\tCone 5\t1 Heat + Burn 4\t-\tHA Genghis I\t0\n",
    "Plasma Thrower\tSuperheavy\tCQB\t4 heat (Self), Burn 5\tCone 7\tBurn 5 + 1d6 Heat\t-\tHA Genghis III\t0\n",
    "Prototype Melee\tMain\tMelee\tLimited (1d6+2), Unreliable\tThreat 1\t1d6 Kinetic, Explosive, or Energy\t-\tEngineer I\t0\n",
    "Prototype Rifle\tMain\tRifle\tLimited (1d6+2), Unreliable\t8\t1d6 Kinetic, Explosive, or Energy\t-\tEngineer I\t0\n",
    "Prototype Cannon\tMain\tCannon\tLimited (1d6+2), Unreliable\t8\t1d6 Kinetic, Explosive, or Energy\t-\tEngineer I\t0\n",
    "Prototype Launcher\tMain\tLauncher\tLimited (1d6+2), Unreliable\t8\t1d6 Kinetic, Explosive, or Energy\t-\tEngineer I\t0\n",
    "Prototype CQB\tMain\tCQB\tLimited (1d6+2), Unreliable\t8\t1d6 Kinetic, Explosive, or Energy\t-\tEngineer I\t0\n",
    "Prototype Tweaked Optics Melee\tMain\tMelee\tLimited (1d6+2), Unreliable\tThreat 1\t1d6 Kinetic, Explosive, or Energy\tThis weapon always has +1 Accuracy\tEngineer II\t0\n",
    "Prototype Tweaked Optics Rifle\tMain\tRifle\tLimited (1d6+2), Unreliable\t8\t1d6 Kinetic, Explosive, or Energy\tThis weapon always has +1 Accuracy\tEngineer II\t0\n",
    "Prototype Tweaked Optics Cannon\tMain\tCannon\tLimited (1d6+2), Unreliable\t8\t1d6 Kinetic, Explosive, or Energy\tThis weapon always has +1 Accuracy\tEngineer II\t0\n",
    "Prototype Tweaked Optics Melee\tMain\tLauncher\tLimited (1d6+2), Unreliable\t8\t1d6 Kinetic, Explosive, or Energy\tThis weapon always has +1 Accuracy\tEngineer II\t0\n",
    "Prototype Tweaked Optics CQB\tMain\tCQB\tLimited (1d6+2), Unreliable\t8\t1d6 Kinetic, Explosive, or Energy\tThis weapon always has +1 Accuracy\tEngineer II\t0\n",
    "Prototype Tweaked Computer Melee\tMain\tMelee\tLimited (1d6+2), Unreliable, Smart\tThreat\t1d6 Kinetic, Explosive, or Energy\t-\tEngineer II\t0\n",
    "Prototype Tweaked Computer Rifle\tMain\tRifle\tLimited (1d6+2), Unreliable, Smart\t8\t1d6 Kinetic, Explosive, or Energy\t-\tEngineer II\t0\n",
    "Prototype Tweaked Computer Cannon\tMain\tCannon\tLimited (1d6+2), Unreliable, Smart\t8\t1d6 Kinetic, Explosive, or Energy\t-\tEngineer II\t0\n",
    "Prototype Tweaked Computer Launcher\tMain\tLauncher\tLimited (1d6+2), Unreliable, Smart\t8\t1d6 Kinetic, Explosive, or Energy\t-\tEngineer II\t0\n",
    "Prototype Tweaked Computer CQB\tMain\tCQB\tLimited (1d6+2), Unreliable, Smart\t8\t1d6 Kinetic, Explosive, or Energy\t-\tEngineer II\t0\n",
    "Prototype Remove Reactor Shielding Melee\tMain\tMelee\tLimited (1d6+2), Unreliable\tThreat\t1d6 Kinetic, Explosive, or Energy\tCan also fire as Cone 3, Line 5, or Blast 1, but costs 2 Heat\tEngineer II\t0\n",
    "Prototype Remove Reactor Shielding Rifle\tMain\tRifle\tLimited (1d6+2), Unreliable\t8\t1d6 Kinetic, Explosive, or Energy\tCan also fire as Cone 3, Line 5, or Blast 1, but costs 2 Heat\tEngineer II\t0\n",
    "Prototype Remove Reactor Shielding Cannon\tMain\tCannon\tLimited (1d6+2), Unreliable\t8\t1d6 Kinetic, Explosive, or Energy\tCan also fire as Cone 3, Line 5, or Blast 1, but costs 2 Heat\tEngineer II\t0\n",
    "Prototype Remove Reactor Shielding Launcher\tMain\tLauncher\tLimited (1d6+2), Unreliable\t8\t1d6 Kinetic, Explosive, or Energy\tCan also fire as Cone 3, Line 5, or Blast 1, but costs 2 Heat\tEngineer II\t0\n",
    "Prototype Remove Reactor Shielding CQB\tMain\tCQB\tLimited (1d6+2), Unreliable\t8\t1d6 Kinetic, Explosive, or Energy\tCan also fire as Cone 3, Line 5, or Blast 1, but costs 2 Heat\tEngineer II\t0\n",
    "Final Draft Tweaked Optics Melee\tMain\tMelee\tLimited (2d6+1), Unreliable\tThreat\t1d6 Kinetic, Explosive, or Energy\tThis weapon always has +1 Accuracy\tEngineer III\t0\n",
    "Final Draft Tweaked Optics Rifle\tMain\tRifle\tLimited (2d6+1), Unreliable\t8\t1d6 Kinetic, Explosive, or Energy\tThis weapon always has +1 Accuracy\tEngineer III\t0\n",
    "Final Draft Tweaked Optics Cannon\tMain\tCannon\tLimited (2d6+1), Unreliable\t8\t1d6 Kinetic, Explosive, or Energy\tThis weapon always has +1 Accuracy\tEngineer III\t0\n",
    "Final Draft Tweaked Optics Melee\tMain\tLauncher\tLimited (2d6+1), Unreliable\t8\t1d6 Kinetic, Explosive, or Energy\tThis weapon always has +1 Accuracy\tEngineer III\t0\n",
    "Final Draft Tweaked Optics CQB\tMain\tCQB\tLimited (2d6+1), Unreliable\t8\t1d6 Kinetic, Explosive, or Energy\tThis weapon always has +1 Accuracy\tEngineer III\t0\n",
    "Final Draft Tweaked Computer Melee\tMain\tMelee\tLimited (2d6+1), Unreliable, Smart\tThreat\t1d6 Kinetic, Explosive, or Energy\t-\tEngineer III\t0\n",
    "Final Draft Tweaked Computer Rifle\tMain\tRifle\tLimited (2d6+1), Unreliable, Smart\t8\t1d6 Kinetic, Explosive, or Energy\t-\tEngineer III\t0\n",
    "Final Draft Tweaked Computer Cannon\tMain\tCannon\tLimited (2d6+1), Unreliable, Smart\t8\t1d6 Kinetic, Explosive, or Energy\t-\tEngineer III\t0\n",
    "Final Draft Tweaked Computer Launcher\tMain\tLauncher\tLimited (2d6+1), Unreliable, Smart\t8\t1d6 Kinetic, Explosive, or Energy\t-\tEngineer III\t0\n",
    "Final Draft Tweaked Computer CQB\tMain\tCQB\tLimited (2d6+1), Unreliable, Smart\t8\t1d6 Kinetic, Explosive, or Energy\t-\tEngineer III\t0\n",
    "Final Draft Remove Reactor Shielding Melee\tMain\tMelee\tLimited (2d6+1), Unreliable\tThreat\t1d6 Kinetic, Explosive, or Energy\tCan also fire as Cone 3, Line 5, or Blast 1, but costs 2 Heat\tEngineer III\t0\n",
    "Final Draft Remove Reactor Shielding Rifle\tMain\tRifle\tLimited (2d6+1), Unreliable\t8\t1d6 Kinetic, Explosive, or Energy\tCan also fire as Cone 3, Line 5, or Blast 1, but costs 2 Heat\tEngineer III\t0\n",
    "Final Draft Remove Reactor Shielding Cannon\tMain\tCannon\tLimited (2d6+1), Unreliable\t8\t1d6 Kinetic, Explosive, or Energy\tCan also fire as Cone 3, Line 5, or Blast 1, but costs 2 Heat\tEngineer III\t0\n",
    "Final Draft Remove Reactor Shielding Launcher\tMain\tLauncher\tLimited (2d6+1), Unreliable\t8\t1d6 Kinetic, Explosive, or Energy\tCan also fire as Cone 3, Line 5, or Blast 1, but costs 2 Heat\tEngineer III\t0\n",
    "Final Draft Remove Reactor Shielding CQB\tMain\tCQB\tLimited (2d6+1), Unreliable\t8\t1d6 Kinetic, Explosive, or Energy\tCan also fire as Cone 3, Line 5, or Blast 1, but costs 2 Heat\tEngineer III\t0\n",
    "Fuel Rod Gun\tAuxiliary\tCQB\tUnique, Limited (6)\t8\t1d3+1 Energy\tWhen you fire this weapon, hit or miss, cool 1d3+1 Heat\tNuclear Cavalier III\t0"
   ]
  },
  {
   "cell_type": "code",
   "execution_count": 2,
   "metadata": {},
   "outputs": [],
   "source": [
    "import pandas as pd\n",
    "import yaml\n",
    "import pyaml\n",
    "import os\n",
    "from jinja2 import Environment, FileSystemLoader, select_autoescape"
   ]
  },
  {
   "cell_type": "code",
   "execution_count": 3,
   "metadata": {},
   "outputs": [],
   "source": [
    "weapon_lookup = pd.read_table('WeaponLookup.tsv')"
   ]
  },
  {
   "cell_type": "code",
   "execution_count": 4,
   "metadata": {},
   "outputs": [],
   "source": [
    "weapon_lookup.columns.values[0] = 'Name'\n",
    "weapon_lookup['key'] = weapon_lookup['Name']\n",
    "weapon_lookup = weapon_lookup.set_index('key')"
   ]
  },
  {
   "cell_type": "code",
   "execution_count": 5,
   "metadata": {},
   "outputs": [
    {
     "data": {
      "text/html": [
       "<div>\n",
       "<style scoped>\n",
       "    .dataframe tbody tr th:only-of-type {\n",
       "        vertical-align: middle;\n",
       "    }\n",
       "\n",
       "    .dataframe tbody tr th {\n",
       "        vertical-align: top;\n",
       "    }\n",
       "\n",
       "    .dataframe thead th {\n",
       "        text-align: right;\n",
       "    }\n",
       "</style>\n",
       "<table border=\"1\" class=\"dataframe\">\n",
       "  <thead>\n",
       "    <tr style=\"text-align: right;\">\n",
       "      <th></th>\n",
       "      <th>Name</th>\n",
       "      <th>Size</th>\n",
       "      <th>Type</th>\n",
       "      <th>Tags</th>\n",
       "      <th>Range</th>\n",
       "      <th>Damage</th>\n",
       "      <th>Notes</th>\n",
       "      <th>License</th>\n",
       "      <th>SP</th>\n",
       "    </tr>\n",
       "    <tr>\n",
       "      <th>key</th>\n",
       "      <th></th>\n",
       "      <th></th>\n",
       "      <th></th>\n",
       "      <th></th>\n",
       "      <th></th>\n",
       "      <th></th>\n",
       "      <th></th>\n",
       "      <th></th>\n",
       "      <th></th>\n",
       "    </tr>\n",
       "  </thead>\n",
       "  <tbody>\n",
       "    <tr>\n",
       "      <th>Empty</th>\n",
       "      <td>Empty</td>\n",
       "      <td>-</td>\n",
       "      <td>-</td>\n",
       "      <td>-</td>\n",
       "      <td>-</td>\n",
       "      <td>-</td>\n",
       "      <td>-</td>\n",
       "      <td>-</td>\n",
       "      <td>0</td>\n",
       "    </tr>\n",
       "    <tr>\n",
       "      <th>Anti-Material Rifle</th>\n",
       "      <td>Anti-Material Rifle</td>\n",
       "      <td>Heavy</td>\n",
       "      <td>Rifle</td>\n",
       "      <td>Loading, Ordnance, AP</td>\n",
       "      <td>20</td>\n",
       "      <td>2d6+2 Kinetic</td>\n",
       "      <td>-</td>\n",
       "      <td>GMS</td>\n",
       "      <td>0</td>\n",
       "    </tr>\n",
       "    <tr>\n",
       "      <th>Assault Rifle</th>\n",
       "      <td>Assault Rifle</td>\n",
       "      <td>Main</td>\n",
       "      <td>Rifle</td>\n",
       "      <td>-</td>\n",
       "      <td>10</td>\n",
       "      <td>1d6 Kinetic</td>\n",
       "      <td>-</td>\n",
       "      <td>GMS</td>\n",
       "      <td>0</td>\n",
       "    </tr>\n",
       "    <tr>\n",
       "      <th>Charged Blade</th>\n",
       "      <td>Charged Blade</td>\n",
       "      <td>Main</td>\n",
       "      <td>Melee</td>\n",
       "      <td>AP</td>\n",
       "      <td>Threat 1</td>\n",
       "      <td>1d3+3 Energy</td>\n",
       "      <td>-</td>\n",
       "      <td>GMS</td>\n",
       "      <td>0</td>\n",
       "    </tr>\n",
       "    <tr>\n",
       "      <th>Drone Nexus (Light)</th>\n",
       "      <td>Drone Nexus (Light)</td>\n",
       "      <td>Auxiliary</td>\n",
       "      <td>Nexus</td>\n",
       "      <td>Smart</td>\n",
       "      <td>8</td>\n",
       "      <td>1d3 Kinetic</td>\n",
       "      <td>-</td>\n",
       "      <td>GMS</td>\n",
       "      <td>0</td>\n",
       "    </tr>\n",
       "  </tbody>\n",
       "</table>\n",
       "</div>"
      ],
      "text/plain": [
       "                                    Name       Size   Type  \\\n",
       "key                                                          \n",
       "Empty                              Empty          -      -   \n",
       "Anti-Material Rifle  Anti-Material Rifle      Heavy  Rifle   \n",
       "Assault Rifle              Assault Rifle       Main  Rifle   \n",
       "Charged Blade              Charged Blade       Main  Melee   \n",
       "Drone Nexus (Light)  Drone Nexus (Light)  Auxiliary  Nexus   \n",
       "\n",
       "                                      Tags     Range         Damage Notes  \\\n",
       "key                                                                         \n",
       "Empty                                    -         -              -     -   \n",
       "Anti-Material Rifle  Loading, Ordnance, AP        20  2d6+2 Kinetic     -   \n",
       "Assault Rifle                            -        10    1d6 Kinetic     -   \n",
       "Charged Blade                           AP  Threat 1   1d3+3 Energy     -   \n",
       "Drone Nexus (Light)                  Smart         8    1d3 Kinetic     -   \n",
       "\n",
       "                    License  SP  \n",
       "key                              \n",
       "Empty                     -   0  \n",
       "Anti-Material Rifle     GMS   0  \n",
       "Assault Rifle           GMS   0  \n",
       "Charged Blade           GMS   0  \n",
       "Drone Nexus (Light)     GMS   0  "
      ]
     },
     "execution_count": 5,
     "metadata": {},
     "output_type": "execute_result"
    }
   ],
   "source": [
    "weapon_lookup.head()"
   ]
  },
  {
   "cell_type": "code",
   "execution_count": 6,
   "metadata": {},
   "outputs": [],
   "source": [
    "def parse_tag_columns(df, tag_columns):\n",
    "    df_cp = df.copy()\n",
    "    for tag_column in tag_columns:\n",
    "        df_cp[tag_column] = df_cp[tag_column].apply(lambda tags_text: yaml.safe_load(f'[{tags_text}]'))\n",
    "    return df_cp\n"
   ]
  },
  {
   "cell_type": "code",
   "execution_count": 7,
   "metadata": {},
   "outputs": [],
   "source": [
    "weapon_lookup = parse_tag_columns(weapon_lookup, ['Tags', 'Range', 'Damage'])"
   ]
  },
  {
   "cell_type": "code",
   "execution_count": 8,
   "metadata": {},
   "outputs": [],
   "source": [
    "weapon_lookup_dict = weapon_lookup.to_dict('index')\n",
    "weapons = [weapon_lookup_dict[name] for name in sorted(weapon_lookup_dict.keys())]"
   ]
  },
  {
   "cell_type": "code",
   "execution_count": 9,
   "metadata": {},
   "outputs": [],
   "source": [
    "env = Environment(\n",
    "    loader = FileSystemLoader('templates'), \n",
    "    autoescape = select_autoescape(['html', 'xml']))"
   ]
  },
  {
   "cell_type": "code",
   "execution_count": 10,
   "metadata": {},
   "outputs": [
    {
     "name": "stdout",
     "output_type": "stream",
     "text": [
      "Overwriting templates/WeaponCards.html\n"
     ]
    }
   ],
   "source": [
    "%%file templates/WeaponCards.html\n",
    "<!doctype html>\n",
    "<html lang=\"en\">\n",
    "    <head>\n",
    "        <!-- Required meta tags -->\n",
    "        <meta charset=\"utf-8\">\n",
    "        <meta name=\"viewport\" content=\"width=device-width, initial-scale=1, shrink-to-fit=no\">\n",
    "\n",
    "        <!-- Bootstrap CSS -->\n",
    "        <link rel=\"stylesheet\" href=\"https://stackpath.bootstrapcdn.com/bootstrap/4.1.3/css/bootstrap.min.css\" integrity=\"sha384-MCw98/SFnGE8fJT3GXwEOngsV7Zt27NXFoaoApmYm81iuXoPkFOJwJ8ERdknLPMO\" crossorigin=\"anonymous\">\n",
    "\n",
    "        <title>Weapon Cards</title>\n",
    "    </head>\n",
    "    <body>\n",
    "        <h1>Weapon Cards</h1>\n",
    "        <div class=\"card-columns\">\n",
    "        {% for weapon in weapons %}\n",
    "            <div class=\"card\">\n",
    "                <div class=\"card-header\">\n",
    "                <h5 class=\"card-title\">{{ weapon['Name']}} </h5>\n",
    "                <span class=\"badge badge-secondary\">{{ weapon['Size'] }}</span>\n",
    "                <span class=\"badge badge-primary\">{{ weapon['Type'] }}</span>\n",
    "                </div>\n",
    "                <div class=\"card-body my-0 py-0\">\n",
    "                    <h6 class=\"card-title d-inline\">Damage: </h6>\n",
    "                    {% for damage in weapon['Damage'] %}\n",
    "                        <span class=\"badge badge-warning\">{{ damage }}</span>\n",
    "                    {% endfor %}\n",
    "                </div>\n",
    "                <div class=\"card-body my-0 py-0\">\n",
    "                    <h6 class=\"card-title d-inline\">Range: </h6>\n",
    "                    {% for range in weapon['Range'] %}\n",
    "                        <span class=\"badge badge-warning\">{{ range }}</span>\n",
    "                    {% endfor %}\n",
    "                </div>\n",
    "                <div class=\"card-body my-0 py-0\">\n",
    "                    <h6 class=\"card-title d-inline\">Tags: </h6>\n",
    "                    {% for tag in weapon['Tags'] %}\n",
    "                        <span class=\"badge badge-info\">{{ tag }}</span>\n",
    "                    {% endfor %}\n",
    "                </div>\n",
    "                <div class=\"card-body my-0 py-0\">\n",
    "                    <h6 class=\"card-title d-inline\">License: </h6>\n",
    "                    <span class=\"badge badge-success\">{{ weapon['License'] }}</span>\n",
    "                </div>\n",
    "                <div class=\"card-body my-0 py-0\">\n",
    "                    <h6 class=\"card-title d-inline\">System Points: </h6>\n",
    "                    <span class=\"badge badge-success\">{{ weapon['SP'] }}</span>\n",
    "                </div>\n",
    "            </div>\n",
    "        {% endfor %}\n",
    "        </div>\n",
    "        <!-- Optional JavaScript -->\n",
    "        <!-- jQuery first, then Popper.js, then Bootstrap JS -->\n",
    "        <script src=\"https://code.jquery.com/jquery-3.3.1.slim.min.js\" integrity=\"sha384-q8i/X+965DzO0rT7abK41JStQIAqVgRVzpbzo5smXKp4YfRvH+8abtTE1Pi6jizo\" crossorigin=\"anonymous\"></script>\n",
    "        <script src=\"https://cdnjs.cloudflare.com/ajax/libs/popper.js/1.14.3/umd/popper.min.js\" integrity=\"sha384-ZMP7rVo3mIykV+2+9J3UJ46jBk0WLaUAdn689aCwoqbBJiSnjAK/l8WvCWPIPm49\" crossorigin=\"anonymous\"></script>\n",
    "        <script src=\"https://stackpath.bootstrapcdn.com/bootstrap/4.1.3/js/bootstrap.min.js\" integrity=\"sha384-ChfqqxuZUCnJSK3+MXmPNIyE6ZbWh2IMqE241rYiqJxyMiZ6OW/JmZQ5stwEULTy\" crossorigin=\"anonymous\"></script>\n",
    "    </body>\n",
    "</html>\n"
   ]
  },
  {
   "cell_type": "code",
   "execution_count": 11,
   "metadata": {},
   "outputs": [],
   "source": [
    "template = env.get_template(\"WeaponCards.html\")"
   ]
  },
  {
   "cell_type": "code",
   "execution_count": 12,
   "metadata": {},
   "outputs": [
    {
     "data": {
      "text/plain": [
       "195597"
      ]
     },
     "execution_count": 12,
     "metadata": {},
     "output_type": "execute_result"
    }
   ],
   "source": [
    "open('WeaponCards.html', 'w').write(template.render(weapons = weapons))"
   ]
  },
  {
   "cell_type": "code",
   "execution_count": null,
   "metadata": {},
   "outputs": [],
   "source": []
  },
  {
   "cell_type": "code",
   "execution_count": null,
   "metadata": {},
   "outputs": [],
   "source": []
  },
  {
   "cell_type": "code",
   "execution_count": null,
   "metadata": {},
   "outputs": [],
   "source": []
  },
  {
   "cell_type": "code",
   "execution_count": null,
   "metadata": {},
   "outputs": [],
   "source": []
  },
  {
   "cell_type": "code",
   "execution_count": null,
   "metadata": {},
   "outputs": [],
   "source": []
  },
  {
   "cell_type": "code",
   "execution_count": null,
   "metadata": {},
   "outputs": [],
   "source": []
  },
  {
   "cell_type": "code",
   "execution_count": null,
   "metadata": {},
   "outputs": [],
   "source": []
  }
 ],
 "metadata": {
  "kernelspec": {
   "display_name": "Python 3",
   "language": "python",
   "name": "python3"
  },
  "language_info": {
   "codemirror_mode": {
    "name": "ipython",
    "version": 3
   },
   "file_extension": ".py",
   "mimetype": "text/x-python",
   "name": "python",
   "nbconvert_exporter": "python",
   "pygments_lexer": "ipython3",
   "version": "3.6.6"
  }
 },
 "nbformat": 4,
 "nbformat_minor": 2
}
